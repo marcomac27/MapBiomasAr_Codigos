{
 "cells": [
  {
   "cell_type": "markdown",
   "id": "c6cb1f6e",
   "metadata": {},
   "source": [
    "MERRA_BC - NASA\n",
    "\n",
    "\n",
    "Código desenvolvido para importação de dados MERRA, de BC: https://goldsmr4.gesdisc.eosdis.nasa.gov/data/MERRA2_MONTHLY/M2TMNXAER.5.12.4/\n",
    "\n",
    "Para que o código abaixo funcione, é necessário configurar um arquivo específico (.netrc), que contém nome de usuário e senha, de acordo com as instruções abaixo:\n",
    "\n",
    "https://disc.gsfc.nasa.gov/data-access#python-requests"
   ]
  },
  {
   "cell_type": "code",
   "execution_count": 7,
   "id": "343dd4a0",
   "metadata": {
    "scrolled": true
   },
   "outputs": [
    {
     "name": "stdout",
     "output_type": "stream",
     "text": [
      "2021\n",
      "G:/Pos_Doutorado/MapbiomasAR/MERRA_BC/Dados/2021\n",
      "The new directory YEAR is created!\n",
      "MERRA2_400.tavgM_2d_aer_Nx.202101.nc4\n",
      "contents of URL written to MERRA2_400.tavgM_2d_aer_Nx.202101.nc4\n",
      "MERRA2_400.tavgM_2d_aer_Nx.202104.nc4\n",
      "contents of URL written to MERRA2_400.tavgM_2d_aer_Nx.202104.nc4\n",
      "MERRA2_400.tavgM_2d_aer_Nx.202110.nc4\n",
      "contents of URL written to MERRA2_400.tavgM_2d_aer_Nx.202110.nc4\n",
      "MERRA2_401.tavgM_2d_aer_Nx.202109.nc4\n",
      "contents of URL written to MERRA2_401.tavgM_2d_aer_Nx.202109.nc4\n",
      "MERRA2_400.tavgM_2d_aer_Nx.202112.nc4\n",
      "contents of URL written to MERRA2_400.tavgM_2d_aer_Nx.202112.nc4\n",
      "MERRA2_400.tavgM_2d_aer_Nx.202103.nc4\n",
      "contents of URL written to MERRA2_400.tavgM_2d_aer_Nx.202103.nc4\n",
      "MERRA2_400.tavgM_2d_aer_Nx.202102.nc4\n",
      "contents of URL written to MERRA2_400.tavgM_2d_aer_Nx.202102.nc4\n",
      "MERRA2_401.tavgM_2d_aer_Nx.202108.nc4\n",
      "contents of URL written to MERRA2_401.tavgM_2d_aer_Nx.202108.nc4\n",
      "MERRA2_400.tavgM_2d_aer_Nx.202105.nc4\n",
      "contents of URL written to MERRA2_400.tavgM_2d_aer_Nx.202105.nc4\n",
      "MERRA2_401.tavgM_2d_aer_Nx.202107.nc4\n",
      "contents of URL written to MERRA2_401.tavgM_2d_aer_Nx.202107.nc4\n",
      "MERRA2_400.tavgM_2d_aer_Nx.202111.nc4\n",
      "contents of URL written to MERRA2_400.tavgM_2d_aer_Nx.202111.nc4\n",
      "MERRA2_401.tavgM_2d_aer_Nx.202106.nc4\n",
      "contents of URL written to MERRA2_401.tavgM_2d_aer_Nx.202106.nc4\n"
     ]
    }
   ],
   "source": [
    "import os\n",
    "from bs4 import BeautifulSoup\n",
    "import requests\n",
    "import csv\n",
    "\n",
    "for ano in range(2021,2022):\n",
    "    anos = str(ano)\n",
    "    links = 'https://goldsmr4.gesdisc.eosdis.nasa.gov/data/MERRA2_MONTHLY/M2TMNXAER.5.12.4/'\n",
    "    url = links + anos\n",
    "    print(ano)\n",
    "    \n",
    "    path = 'G:/Pos_Doutorado/MapbiomasAR/MERRA_BC/Dados/'\n",
    "    caminho = path + anos\n",
    "    print(caminho)\n",
    "\n",
    "    isExist = os.path.exists(caminho)\n",
    "\n",
    "    if not isExist:\n",
    "\n",
    "        os.makedirs(caminho)\n",
    "        print(\"The new directory YEAR is created!\")\n",
    "\n",
    "    os.chdir(caminho) \n",
    "\n",
    "\n",
    "    def listFD(url, ext=''):\n",
    "            page = requests.get(url).text\n",
    "            soup = BeautifulSoup(page, 'html.parser')\n",
    "            return [url + '/' + node.get('href') for node in soup.find_all('a') if node.get('href').endswith(ext)]\n",
    "        \n",
    "    lista = listFD(url,'nc4');\n",
    "    dados = set(lista) #Remocao de dados repetidos. a desvantagem aqui eh que nao preserva a ordem. Mas o que importa eh que todos os dados estao la. \n",
    "    \n",
    "    #print(dados)\n",
    "\n",
    "    for file2 in dados:\n",
    "        \n",
    "        #print(file2)\n",
    "        result = requests.get(file2) #\n",
    "        k = str(file2)\n",
    "        print(k[83:120])\n",
    "               \n",
    "        local_file = k[83:120]            \n",
    "\n",
    "        try:\n",
    "            result.raise_for_status()\n",
    "            f = open(local_file,'wb')\n",
    "            f.write(result.content)\n",
    "            f.close()\n",
    "            print('contents of URL written to '+local_file)\n",
    "        except:\n",
    "            print('requests.get() returned an error code '+str(result.status_code))\n",
    "        #with open(local_file, 'wb')as file:\n",
    "            #file.write(r.content)  "
   ]
  }
 ],
 "metadata": {
  "kernelspec": {
   "display_name": "Python 3 (ipykernel)",
   "language": "python",
   "name": "python3"
  },
  "language_info": {
   "codemirror_mode": {
    "name": "ipython",
    "version": 3
   },
   "file_extension": ".py",
   "mimetype": "text/x-python",
   "name": "python",
   "nbconvert_exporter": "python",
   "pygments_lexer": "ipython3",
   "version": "3.9.13"
  }
 },
 "nbformat": 4,
 "nbformat_minor": 5
}
